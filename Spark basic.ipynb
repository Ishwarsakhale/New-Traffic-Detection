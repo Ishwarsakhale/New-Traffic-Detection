{
 "cells": [
  {
   "cell_type": "code",
   "execution_count": 1,
   "id": "d7e57617",
   "metadata": {},
   "outputs": [],
   "source": [
    "import pandas as pd\n",
    "import numpy as np\n",
    "import seaborn as sns\n",
    "import matplotlib.pyplot as plt"
   ]
  },
  {
   "cell_type": "code",
   "execution_count": 2,
   "id": "6a0b98c4",
   "metadata": {},
   "outputs": [
    {
     "name": "stdout",
     "output_type": "stream",
     "text": [
      "Requirement already satisfied: pyspark in c:\\users\\admin\\anaconda3\\lib\\site-packages (3.1.2)\n",
      "Requirement already satisfied: py4j==0.10.9 in c:\\users\\admin\\anaconda3\\lib\\site-packages (from pyspark) (0.10.9)\n",
      "Note: you may need to restart the kernel to use updated packages.\n"
     ]
    }
   ],
   "source": [
    "pip install pyspark"
   ]
  },
  {
   "cell_type": "code",
   "execution_count": 3,
   "id": "0a346d43",
   "metadata": {},
   "outputs": [
    {
     "name": "stdout",
     "output_type": "stream",
     "text": [
      "Collecting sparkmagic\n",
      "  Downloading sparkmagic-0.19.0.tar.gz (41 kB)\n",
      "Collecting hdijupyterutils>=0.6\n",
      "  Downloading hdijupyterutils-0.19.0.tar.gz (4.6 kB)\n",
      "Collecting autovizwidget>=0.6\n",
      "  Downloading autovizwidget-0.19.0.tar.gz (8.3 kB)\n",
      "Requirement already satisfied: ipython>=4.0.2 in c:\\users\\admin\\anaconda3\\lib\\site-packages (from sparkmagic) (7.22.0)\n",
      "Requirement already satisfied: nose in c:\\users\\admin\\anaconda3\\lib\\site-packages (from sparkmagic) (1.3.7)\n",
      "Requirement already satisfied: mock in c:\\users\\admin\\anaconda3\\lib\\site-packages (from sparkmagic) (4.0.3)\n",
      "Requirement already satisfied: pandas>=0.17.1 in c:\\users\\admin\\anaconda3\\lib\\site-packages (from sparkmagic) (1.2.4)\n",
      "Requirement already satisfied: numpy in c:\\users\\admin\\anaconda3\\lib\\site-packages (from sparkmagic) (1.20.1)\n",
      "Requirement already satisfied: requests in c:\\users\\admin\\anaconda3\\lib\\site-packages (from sparkmagic) (2.25.1)\n",
      "Requirement already satisfied: ipykernel in c:\\users\\admin\\anaconda3\\lib\\site-packages (from sparkmagic) (5.3.4)\n",
      "Requirement already satisfied: ipywidgets>5.0.0 in c:\\users\\admin\\anaconda3\\lib\\site-packages (from sparkmagic) (7.6.3)\n",
      "Requirement already satisfied: notebook>=4.2 in c:\\users\\admin\\anaconda3\\lib\\site-packages (from sparkmagic) (6.3.0)\n",
      "Requirement already satisfied: tornado>=4 in c:\\users\\admin\\anaconda3\\lib\\site-packages (from sparkmagic) (6.1)\n",
      "Collecting requests_kerberos>=0.8.0\n",
      "  Downloading requests_kerberos-0.12.0-py2.py3-none-any.whl (14 kB)\n",
      "Collecting plotly>=3\n",
      "  Downloading plotly-5.1.0-py2.py3-none-any.whl (20.6 MB)\n",
      "Requirement already satisfied: jupyter>=1 in c:\\users\\admin\\anaconda3\\lib\\site-packages (from hdijupyterutils>=0.6->sparkmagic) (1.0.0)\n",
      "Requirement already satisfied: traitlets>=4.1.0 in c:\\users\\admin\\anaconda3\\lib\\site-packages (from ipykernel->sparkmagic) (5.0.5)\n",
      "Requirement already satisfied: jupyter-client in c:\\users\\admin\\anaconda3\\lib\\site-packages (from ipykernel->sparkmagic) (6.1.12)\n",
      "Requirement already satisfied: decorator in c:\\users\\admin\\anaconda3\\lib\\site-packages (from ipython>=4.0.2->sparkmagic) (5.0.6)\n",
      "Requirement already satisfied: pygments in c:\\users\\admin\\anaconda3\\lib\\site-packages (from ipython>=4.0.2->sparkmagic) (2.8.1)\n",
      "Requirement already satisfied: jedi>=0.16 in c:\\users\\admin\\anaconda3\\lib\\site-packages (from ipython>=4.0.2->sparkmagic) (0.17.2)\n",
      "Requirement already satisfied: backcall in c:\\users\\admin\\anaconda3\\lib\\site-packages (from ipython>=4.0.2->sparkmagic) (0.2.0)\n",
      "Requirement already satisfied: setuptools>=18.5 in c:\\users\\admin\\anaconda3\\lib\\site-packages (from ipython>=4.0.2->sparkmagic) (52.0.0.post20210125)\n",
      "Requirement already satisfied: prompt-toolkit!=3.0.0,!=3.0.1,<3.1.0,>=2.0.0 in c:\\users\\admin\\anaconda3\\lib\\site-packages (from ipython>=4.0.2->sparkmagic) (3.0.17)\n",
      "Requirement already satisfied: colorama in c:\\users\\admin\\anaconda3\\lib\\site-packages (from ipython>=4.0.2->sparkmagic) (0.4.4)\n",
      "Requirement already satisfied: pickleshare in c:\\users\\admin\\anaconda3\\lib\\site-packages (from ipython>=4.0.2->sparkmagic) (0.7.5)\n",
      "Requirement already satisfied: jupyterlab-widgets>=1.0.0 in c:\\users\\admin\\anaconda3\\lib\\site-packages (from ipywidgets>5.0.0->sparkmagic) (1.0.0)\n",
      "Requirement already satisfied: widgetsnbextension~=3.5.0 in c:\\users\\admin\\anaconda3\\lib\\site-packages (from ipywidgets>5.0.0->sparkmagic) (3.5.1)\n",
      "Requirement already satisfied: nbformat>=4.2.0 in c:\\users\\admin\\anaconda3\\lib\\site-packages (from ipywidgets>5.0.0->sparkmagic) (5.1.3)\n",
      "Requirement already satisfied: parso<0.8.0,>=0.7.0 in c:\\users\\admin\\anaconda3\\lib\\site-packages (from jedi>=0.16->ipython>=4.0.2->sparkmagic) (0.7.0)\n",
      "Requirement already satisfied: qtconsole in c:\\users\\admin\\anaconda3\\lib\\site-packages (from jupyter>=1->hdijupyterutils>=0.6->sparkmagic) (5.0.3)\n",
      "Requirement already satisfied: jupyter-console in c:\\users\\admin\\anaconda3\\lib\\site-packages (from jupyter>=1->hdijupyterutils>=0.6->sparkmagic) (6.4.0)\n",
      "Requirement already satisfied: nbconvert in c:\\users\\admin\\anaconda3\\lib\\site-packages (from jupyter>=1->hdijupyterutils>=0.6->sparkmagic) (6.0.7)Note: you may need to restart the kernel to use updated packages.\n",
      "\n",
      "Requirement already satisfied: jsonschema!=2.5.0,>=2.4 in c:\\users\\admin\\anaconda3\\lib\\site-packages (from nbformat>=4.2.0->ipywidgets>5.0.0->sparkmagic) (3.2.0)\n",
      "Requirement already satisfied: ipython-genutils in c:\\users\\admin\\anaconda3\\lib\\site-packages (from nbformat>=4.2.0->ipywidgets>5.0.0->sparkmagic) (0.2.0)\n",
      "Requirement already satisfied: jupyter-core in c:\\users\\admin\\anaconda3\\lib\\site-packages (from nbformat>=4.2.0->ipywidgets>5.0.0->sparkmagic) (4.7.1)\n",
      "Requirement already satisfied: attrs>=17.4.0 in c:\\users\\admin\\anaconda3\\lib\\site-packages (from jsonschema!=2.5.0,>=2.4->nbformat>=4.2.0->ipywidgets>5.0.0->sparkmagic) (20.3.0)\n",
      "Requirement already satisfied: pyrsistent>=0.14.0 in c:\\users\\admin\\anaconda3\\lib\\site-packages (from jsonschema!=2.5.0,>=2.4->nbformat>=4.2.0->ipywidgets>5.0.0->sparkmagic) (0.17.3)\n",
      "Requirement already satisfied: six>=1.11.0 in c:\\users\\admin\\anaconda3\\lib\\site-packages (from jsonschema!=2.5.0,>=2.4->nbformat>=4.2.0->ipywidgets>5.0.0->sparkmagic) (1.15.0)\n",
      "Requirement already satisfied: Send2Trash>=1.5.0 in c:\\users\\admin\\anaconda3\\lib\\site-packages (from notebook>=4.2->sparkmagic) (1.5.0)\n",
      "Requirement already satisfied: pyzmq>=17 in c:\\users\\admin\\anaconda3\\lib\\site-packages (from notebook>=4.2->sparkmagic) (20.0.0)\n",
      "Requirement already satisfied: terminado>=0.8.3 in c:\\users\\admin\\anaconda3\\lib\\site-packages (from notebook>=4.2->sparkmagic) (0.9.4)\n",
      "Requirement already satisfied: jinja2 in c:\\users\\admin\\anaconda3\\lib\\site-packages (from notebook>=4.2->sparkmagic) (2.11.3)\n",
      "Requirement already satisfied: argon2-cffi in c:\\users\\admin\\anaconda3\\lib\\site-packages (from notebook>=4.2->sparkmagic) (20.1.0)\n",
      "Requirement already satisfied: prometheus-client in c:\\users\\admin\\anaconda3\\lib\\site-packages (from notebook>=4.2->sparkmagic) (0.10.1)\n",
      "Requirement already satisfied: python-dateutil>=2.1 in c:\\users\\admin\\anaconda3\\lib\\site-packages (from jupyter-client->ipykernel->sparkmagic) (2.8.1)\n",
      "Requirement already satisfied: pywin32>=1.0 in c:\\users\\admin\\anaconda3\\lib\\site-packages (from jupyter-core->nbformat>=4.2.0->ipywidgets>5.0.0->sparkmagic) (227)\n",
      "Requirement already satisfied: pytz>=2017.3 in c:\\users\\admin\\anaconda3\\lib\\site-packages (from pandas>=0.17.1->sparkmagic) (2021.1)\n",
      "Collecting tenacity>=6.2.0\n",
      "  Downloading tenacity-8.0.1-py3-none-any.whl (24 kB)\n",
      "Requirement already satisfied: wcwidth in c:\\users\\admin\\anaconda3\\lib\\site-packages (from prompt-toolkit!=3.0.0,!=3.0.1,<3.1.0,>=2.0.0->ipython>=4.0.2->sparkmagic) (0.2.5)\n",
      "Collecting winkerberos>=0.5.0\n",
      "  Downloading winkerberos-0.8.0-cp38-cp38-win_amd64.whl (24 kB)\n",
      "Requirement already satisfied: cryptography>=1.3 in c:\\users\\admin\\anaconda3\\lib\\site-packages (from requests_kerberos>=0.8.0->sparkmagic) (3.4.7)\n",
      "Requirement already satisfied: cffi>=1.12 in c:\\users\\admin\\anaconda3\\lib\\site-packages (from cryptography>=1.3->requests_kerberos>=0.8.0->sparkmagic) (1.14.5)\n",
      "Requirement already satisfied: pycparser in c:\\users\\admin\\anaconda3\\lib\\site-packages (from cffi>=1.12->cryptography>=1.3->requests_kerberos>=0.8.0->sparkmagic) (2.20)\n",
      "Requirement already satisfied: urllib3<1.27,>=1.21.1 in c:\\users\\admin\\anaconda3\\lib\\site-packages (from requests->sparkmagic) (1.26.4)\n",
      "Requirement already satisfied: chardet<5,>=3.0.2 in c:\\users\\admin\\anaconda3\\lib\\site-packages (from requests->sparkmagic) (4.0.0)\n",
      "Requirement already satisfied: certifi>=2017.4.17 in c:\\users\\admin\\anaconda3\\lib\\site-packages (from requests->sparkmagic) (2020.12.5)\n",
      "Requirement already satisfied: idna<3,>=2.5 in c:\\users\\admin\\anaconda3\\lib\\site-packages (from requests->sparkmagic) (2.10)\n",
      "Requirement already satisfied: pywinpty>=0.5 in c:\\users\\admin\\anaconda3\\lib\\site-packages (from terminado>=0.8.3->notebook>=4.2->sparkmagic) (0.5.7)\n",
      "Requirement already satisfied: MarkupSafe>=0.23 in c:\\users\\admin\\anaconda3\\lib\\site-packages (from jinja2->notebook>=4.2->sparkmagic) (1.1.1)\n",
      "Requirement already satisfied: pandocfilters>=1.4.1 in c:\\users\\admin\\anaconda3\\lib\\site-packages (from nbconvert->jupyter>=1->hdijupyterutils>=0.6->sparkmagic) (1.4.3)\n",
      "Requirement already satisfied: entrypoints>=0.2.2 in c:\\users\\admin\\anaconda3\\lib\\site-packages (from nbconvert->jupyter>=1->hdijupyterutils>=0.6->sparkmagic) (0.3)\n",
      "Requirement already satisfied: jupyterlab-pygments in c:\\users\\admin\\anaconda3\\lib\\site-packages (from nbconvert->jupyter>=1->hdijupyterutils>=0.6->sparkmagic) (0.1.2)\n",
      "Requirement already satisfied: bleach in c:\\users\\admin\\anaconda3\\lib\\site-packages (from nbconvert->jupyter>=1->hdijupyterutils>=0.6->sparkmagic) (3.3.0)\n",
      "Requirement already satisfied: defusedxml in c:\\users\\admin\\anaconda3\\lib\\site-packages (from nbconvert->jupyter>=1->hdijupyterutils>=0.6->sparkmagic) (0.7.1)\n",
      "Requirement already satisfied: mistune<2,>=0.8.1 in c:\\users\\admin\\anaconda3\\lib\\site-packages (from nbconvert->jupyter>=1->hdijupyterutils>=0.6->sparkmagic) (0.8.4)\n",
      "Requirement already satisfied: testpath in c:\\users\\admin\\anaconda3\\lib\\site-packages (from nbconvert->jupyter>=1->hdijupyterutils>=0.6->sparkmagic) (0.4.4)\n",
      "Requirement already satisfied: nbclient<0.6.0,>=0.5.0 in c:\\users\\admin\\anaconda3\\lib\\site-packages (from nbconvert->jupyter>=1->hdijupyterutils>=0.6->sparkmagic) (0.5.3)\n",
      "Requirement already satisfied: async-generator in c:\\users\\admin\\anaconda3\\lib\\site-packages (from nbclient<0.6.0,>=0.5.0->nbconvert->jupyter>=1->hdijupyterutils>=0.6->sparkmagic) (1.10)\n",
      "Requirement already satisfied: nest-asyncio in c:\\users\\admin\\anaconda3\\lib\\site-packages (from nbclient<0.6.0,>=0.5.0->nbconvert->jupyter>=1->hdijupyterutils>=0.6->sparkmagic) (1.5.1)\n",
      "Requirement already satisfied: packaging in c:\\users\\admin\\anaconda3\\lib\\site-packages (from bleach->nbconvert->jupyter>=1->hdijupyterutils>=0.6->sparkmagic) (20.9)\n",
      "Requirement already satisfied: webencodings in c:\\users\\admin\\anaconda3\\lib\\site-packages (from bleach->nbconvert->jupyter>=1->hdijupyterutils>=0.6->sparkmagic) (0.5.1)\n",
      "Requirement already satisfied: pyparsing>=2.0.2 in c:\\users\\admin\\anaconda3\\lib\\site-packages (from packaging->bleach->nbconvert->jupyter>=1->hdijupyterutils>=0.6->sparkmagic) (2.4.7)\n",
      "Requirement already satisfied: qtpy in c:\\users\\admin\\anaconda3\\lib\\site-packages (from qtconsole->jupyter>=1->hdijupyterutils>=0.6->sparkmagic) (1.9.0)\n",
      "Building wheels for collected packages: sparkmagic, autovizwidget, hdijupyterutils\n",
      "  Building wheel for sparkmagic (setup.py): started\n",
      "  Building wheel for sparkmagic (setup.py): finished with status 'done'\n",
      "  Created wheel for sparkmagic: filename=sparkmagic-0.19.0-py3-none-any.whl size=64703 sha256=e64ea1545ae8bb613dc490d09a447d4f720435de23243aedd99bbfd7ed67cab9\n",
      "  Stored in directory: c:\\users\\admin\\appdata\\local\\pip\\cache\\wheels\\df\\4e\\7e\\459cebfd3a4bf67f0cf931a525d271f6222c8a35cb8517da01\n",
      "  Building wheel for autovizwidget (setup.py): started\n",
      "  Building wheel for autovizwidget (setup.py): finished with status 'done'\n",
      "  Created wheel for autovizwidget: filename=autovizwidget-0.19.0-py3-none-any.whl size=14550 sha256=293a205de5914aa75f0fbc9c784f5683aae397d6abb44c0502c90ccbb650467a\n",
      "  Stored in directory: c:\\users\\admin\\appdata\\local\\pip\\cache\\wheels\\ae\\a0\\e3\\cb99b000df64933fcf71a873beda5a1f49274cb186ec99cc16\n",
      "  Building wheel for hdijupyterutils (setup.py): started\n",
      "  Building wheel for hdijupyterutils (setup.py): finished with status 'done'\n",
      "  Created wheel for hdijupyterutils: filename=hdijupyterutils-0.19.0-py3-none-any.whl size=7714 sha256=fced2f7cea610d1d0e9c8bb83de1a5dcc61fd4b4dfc19bf5fd451f80d482ff00\n",
      "  Stored in directory: c:\\users\\admin\\appdata\\local\\pip\\cache\\wheels\\ac\\28\\ec\\a985ad5dc9f0969501adbf0109c77ec544e67a1da386d289f0\n",
      "Successfully built sparkmagic autovizwidget hdijupyterutils\n",
      "Installing collected packages: tenacity, winkerberos, plotly, hdijupyterutils, requests-kerberos, autovizwidget, sparkmagic\n",
      "Successfully installed autovizwidget-0.19.0 hdijupyterutils-0.19.0 plotly-5.1.0 requests-kerberos-0.12.0 sparkmagic-0.19.0 tenacity-8.0.1 winkerberos-0.8.0\n"
     ]
    }
   ],
   "source": [
    "pip install sparkmagic"
   ]
  },
  {
   "cell_type": "code",
   "execution_count": 7,
   "id": "d73e34d5",
   "metadata": {},
   "outputs": [],
   "source": [
    "from pyspark.sql.types import *\n",
    "from pyspark.sql.functions import *\n",
    "from pyspark.sql import SparkSession"
   ]
  },
  {
   "cell_type": "code",
   "execution_count": 8,
   "id": "c3dc8232",
   "metadata": {},
   "outputs": [
    {
     "ename": "Exception",
     "evalue": "Java gateway process exited before sending its port number",
     "output_type": "error",
     "traceback": [
      "\u001b[1;31m---------------------------------------------------------------------------\u001b[0m",
      "\u001b[1;31mException\u001b[0m                                 Traceback (most recent call last)",
      "\u001b[1;32m<ipython-input-8-f782e0e120f5>\u001b[0m in \u001b[0;36m<module>\u001b[1;34m\u001b[0m\n\u001b[1;32m----> 1\u001b[1;33m \u001b[0mspark\u001b[0m \u001b[1;33m=\u001b[0m \u001b[0mSparkSession\u001b[0m\u001b[1;33m.\u001b[0m\u001b[0mbuilder\u001b[0m\u001b[1;33m.\u001b[0m\u001b[0mmaster\u001b[0m\u001b[1;33m(\u001b[0m\u001b[1;34m\"local[*]\"\u001b[0m\u001b[1;33m)\u001b[0m\u001b[1;33m.\u001b[0m\u001b[0mgetOrCreate\u001b[0m\u001b[1;33m(\u001b[0m\u001b[1;33m)\u001b[0m\u001b[1;33m\u001b[0m\u001b[1;33m\u001b[0m\u001b[0m\n\u001b[0m",
      "\u001b[1;32m~\\anaconda3\\lib\\site-packages\\pyspark\\sql\\session.py\u001b[0m in \u001b[0;36mgetOrCreate\u001b[1;34m(self)\u001b[0m\n\u001b[0;32m    226\u001b[0m                             \u001b[0msparkConf\u001b[0m\u001b[1;33m.\u001b[0m\u001b[0mset\u001b[0m\u001b[1;33m(\u001b[0m\u001b[0mkey\u001b[0m\u001b[1;33m,\u001b[0m \u001b[0mvalue\u001b[0m\u001b[1;33m)\u001b[0m\u001b[1;33m\u001b[0m\u001b[1;33m\u001b[0m\u001b[0m\n\u001b[0;32m    227\u001b[0m                         \u001b[1;31m# This SparkContext may be an existing one.\u001b[0m\u001b[1;33m\u001b[0m\u001b[1;33m\u001b[0m\u001b[1;33m\u001b[0m\u001b[0m\n\u001b[1;32m--> 228\u001b[1;33m                         \u001b[0msc\u001b[0m \u001b[1;33m=\u001b[0m \u001b[0mSparkContext\u001b[0m\u001b[1;33m.\u001b[0m\u001b[0mgetOrCreate\u001b[0m\u001b[1;33m(\u001b[0m\u001b[0msparkConf\u001b[0m\u001b[1;33m)\u001b[0m\u001b[1;33m\u001b[0m\u001b[1;33m\u001b[0m\u001b[0m\n\u001b[0m\u001b[0;32m    229\u001b[0m                     \u001b[1;31m# Do not update `SparkConf` for existing `SparkContext`, as it's shared\u001b[0m\u001b[1;33m\u001b[0m\u001b[1;33m\u001b[0m\u001b[1;33m\u001b[0m\u001b[0m\n\u001b[0;32m    230\u001b[0m                     \u001b[1;31m# by all sessions.\u001b[0m\u001b[1;33m\u001b[0m\u001b[1;33m\u001b[0m\u001b[1;33m\u001b[0m\u001b[0m\n",
      "\u001b[1;32m~\\anaconda3\\lib\\site-packages\\pyspark\\context.py\u001b[0m in \u001b[0;36mgetOrCreate\u001b[1;34m(cls, conf)\u001b[0m\n\u001b[0;32m    382\u001b[0m         \u001b[1;32mwith\u001b[0m \u001b[0mSparkContext\u001b[0m\u001b[1;33m.\u001b[0m\u001b[0m_lock\u001b[0m\u001b[1;33m:\u001b[0m\u001b[1;33m\u001b[0m\u001b[1;33m\u001b[0m\u001b[0m\n\u001b[0;32m    383\u001b[0m             \u001b[1;32mif\u001b[0m \u001b[0mSparkContext\u001b[0m\u001b[1;33m.\u001b[0m\u001b[0m_active_spark_context\u001b[0m \u001b[1;32mis\u001b[0m \u001b[1;32mNone\u001b[0m\u001b[1;33m:\u001b[0m\u001b[1;33m\u001b[0m\u001b[1;33m\u001b[0m\u001b[0m\n\u001b[1;32m--> 384\u001b[1;33m                 \u001b[0mSparkContext\u001b[0m\u001b[1;33m(\u001b[0m\u001b[0mconf\u001b[0m\u001b[1;33m=\u001b[0m\u001b[0mconf\u001b[0m \u001b[1;32mor\u001b[0m \u001b[0mSparkConf\u001b[0m\u001b[1;33m(\u001b[0m\u001b[1;33m)\u001b[0m\u001b[1;33m)\u001b[0m\u001b[1;33m\u001b[0m\u001b[1;33m\u001b[0m\u001b[0m\n\u001b[0m\u001b[0;32m    385\u001b[0m             \u001b[1;32mreturn\u001b[0m \u001b[0mSparkContext\u001b[0m\u001b[1;33m.\u001b[0m\u001b[0m_active_spark_context\u001b[0m\u001b[1;33m\u001b[0m\u001b[1;33m\u001b[0m\u001b[0m\n\u001b[0;32m    386\u001b[0m \u001b[1;33m\u001b[0m\u001b[0m\n",
      "\u001b[1;32m~\\anaconda3\\lib\\site-packages\\pyspark\\context.py\u001b[0m in \u001b[0;36m__init__\u001b[1;34m(self, master, appName, sparkHome, pyFiles, environment, batchSize, serializer, conf, gateway, jsc, profiler_cls)\u001b[0m\n\u001b[0;32m    142\u001b[0m                 \" is not allowed as it is a security risk.\")\n\u001b[0;32m    143\u001b[0m \u001b[1;33m\u001b[0m\u001b[0m\n\u001b[1;32m--> 144\u001b[1;33m         \u001b[0mSparkContext\u001b[0m\u001b[1;33m.\u001b[0m\u001b[0m_ensure_initialized\u001b[0m\u001b[1;33m(\u001b[0m\u001b[0mself\u001b[0m\u001b[1;33m,\u001b[0m \u001b[0mgateway\u001b[0m\u001b[1;33m=\u001b[0m\u001b[0mgateway\u001b[0m\u001b[1;33m,\u001b[0m \u001b[0mconf\u001b[0m\u001b[1;33m=\u001b[0m\u001b[0mconf\u001b[0m\u001b[1;33m)\u001b[0m\u001b[1;33m\u001b[0m\u001b[1;33m\u001b[0m\u001b[0m\n\u001b[0m\u001b[0;32m    145\u001b[0m         \u001b[1;32mtry\u001b[0m\u001b[1;33m:\u001b[0m\u001b[1;33m\u001b[0m\u001b[1;33m\u001b[0m\u001b[0m\n\u001b[0;32m    146\u001b[0m             self._do_init(master, appName, sparkHome, pyFiles, environment, batchSize, serializer,\n",
      "\u001b[1;32m~\\anaconda3\\lib\\site-packages\\pyspark\\context.py\u001b[0m in \u001b[0;36m_ensure_initialized\u001b[1;34m(cls, instance, gateway, conf)\u001b[0m\n\u001b[0;32m    329\u001b[0m         \u001b[1;32mwith\u001b[0m \u001b[0mSparkContext\u001b[0m\u001b[1;33m.\u001b[0m\u001b[0m_lock\u001b[0m\u001b[1;33m:\u001b[0m\u001b[1;33m\u001b[0m\u001b[1;33m\u001b[0m\u001b[0m\n\u001b[0;32m    330\u001b[0m             \u001b[1;32mif\u001b[0m \u001b[1;32mnot\u001b[0m \u001b[0mSparkContext\u001b[0m\u001b[1;33m.\u001b[0m\u001b[0m_gateway\u001b[0m\u001b[1;33m:\u001b[0m\u001b[1;33m\u001b[0m\u001b[1;33m\u001b[0m\u001b[0m\n\u001b[1;32m--> 331\u001b[1;33m                 \u001b[0mSparkContext\u001b[0m\u001b[1;33m.\u001b[0m\u001b[0m_gateway\u001b[0m \u001b[1;33m=\u001b[0m \u001b[0mgateway\u001b[0m \u001b[1;32mor\u001b[0m \u001b[0mlaunch_gateway\u001b[0m\u001b[1;33m(\u001b[0m\u001b[0mconf\u001b[0m\u001b[1;33m)\u001b[0m\u001b[1;33m\u001b[0m\u001b[1;33m\u001b[0m\u001b[0m\n\u001b[0m\u001b[0;32m    332\u001b[0m                 \u001b[0mSparkContext\u001b[0m\u001b[1;33m.\u001b[0m\u001b[0m_jvm\u001b[0m \u001b[1;33m=\u001b[0m \u001b[0mSparkContext\u001b[0m\u001b[1;33m.\u001b[0m\u001b[0m_gateway\u001b[0m\u001b[1;33m.\u001b[0m\u001b[0mjvm\u001b[0m\u001b[1;33m\u001b[0m\u001b[1;33m\u001b[0m\u001b[0m\n\u001b[0;32m    333\u001b[0m \u001b[1;33m\u001b[0m\u001b[0m\n",
      "\u001b[1;32m~\\anaconda3\\lib\\site-packages\\pyspark\\java_gateway.py\u001b[0m in \u001b[0;36mlaunch_gateway\u001b[1;34m(conf, popen_kwargs)\u001b[0m\n\u001b[0;32m    106\u001b[0m \u001b[1;33m\u001b[0m\u001b[0m\n\u001b[0;32m    107\u001b[0m             \u001b[1;32mif\u001b[0m \u001b[1;32mnot\u001b[0m \u001b[0mos\u001b[0m\u001b[1;33m.\u001b[0m\u001b[0mpath\u001b[0m\u001b[1;33m.\u001b[0m\u001b[0misfile\u001b[0m\u001b[1;33m(\u001b[0m\u001b[0mconn_info_file\u001b[0m\u001b[1;33m)\u001b[0m\u001b[1;33m:\u001b[0m\u001b[1;33m\u001b[0m\u001b[1;33m\u001b[0m\u001b[0m\n\u001b[1;32m--> 108\u001b[1;33m                 \u001b[1;32mraise\u001b[0m \u001b[0mException\u001b[0m\u001b[1;33m(\u001b[0m\u001b[1;34m\"Java gateway process exited before sending its port number\"\u001b[0m\u001b[1;33m)\u001b[0m\u001b[1;33m\u001b[0m\u001b[1;33m\u001b[0m\u001b[0m\n\u001b[0m\u001b[0;32m    109\u001b[0m \u001b[1;33m\u001b[0m\u001b[0m\n\u001b[0;32m    110\u001b[0m             \u001b[1;32mwith\u001b[0m \u001b[0mopen\u001b[0m\u001b[1;33m(\u001b[0m\u001b[0mconn_info_file\u001b[0m\u001b[1;33m,\u001b[0m \u001b[1;34m\"rb\"\u001b[0m\u001b[1;33m)\u001b[0m \u001b[1;32mas\u001b[0m \u001b[0minfo\u001b[0m\u001b[1;33m:\u001b[0m\u001b[1;33m\u001b[0m\u001b[1;33m\u001b[0m\u001b[0m\n",
      "\u001b[1;31mException\u001b[0m: Java gateway process exited before sending its port number"
     ]
    }
   ],
   "source": [
    "spark = SparkSession.builder.master(\"local[*]\").getOrCreate()"
   ]
  },
  {
   "cell_type": "code",
   "execution_count": null,
   "id": "d8febfc8",
   "metadata": {},
   "outputs": [],
   "source": []
  },
  {
   "cell_type": "code",
   "execution_count": 4,
   "id": "b3a53470",
   "metadata": {},
   "outputs": [
    {
     "ename": "NameError",
     "evalue": "name 'spark' is not defined",
     "output_type": "error",
     "traceback": [
      "\u001b[1;31m---------------------------------------------------------------------------\u001b[0m",
      "\u001b[1;31mNameError\u001b[0m                                 Traceback (most recent call last)",
      "\u001b[1;32m<ipython-input-4-8f772d792e4d>\u001b[0m in \u001b[0;36m<module>\u001b[1;34m\u001b[0m\n\u001b[1;32m----> 1\u001b[1;33m \u001b[0mcsv\u001b[0m \u001b[1;33m=\u001b[0m \u001b[0mspark\u001b[0m\u001b[1;33m.\u001b[0m\u001b[0mread\u001b[0m\u001b[1;33m.\u001b[0m\u001b[0mcsv\u001b[0m\u001b[1;33m(\u001b[0m\u001b[1;34m'F:/Dataviv/barodra day 0.csv'\u001b[0m\u001b[1;33m,\u001b[0m \u001b[0minferSchema\u001b[0m\u001b[1;33m=\u001b[0m\u001b[1;32mTrue\u001b[0m\u001b[1;33m,\u001b[0m \u001b[0mheader\u001b[0m\u001b[1;33m=\u001b[0m\u001b[1;32mTrue\u001b[0m\u001b[1;33m)\u001b[0m\u001b[1;33m\u001b[0m\u001b[1;33m\u001b[0m\u001b[0m\n\u001b[0m\u001b[0;32m      2\u001b[0m \u001b[0mcsv\u001b[0m\u001b[1;33m.\u001b[0m\u001b[0mshow\u001b[0m\u001b[1;33m(\u001b[0m\u001b[1;36m10\u001b[0m\u001b[1;33m)\u001b[0m\u001b[1;33m\u001b[0m\u001b[1;33m\u001b[0m\u001b[0m\n",
      "\u001b[1;31mNameError\u001b[0m: name 'spark' is not defined"
     ]
    }
   ],
   "source": [
    "csv = spark.read.csv('F:/Dataviv/barodra day 0.csv', inferSchema=True, header=True)\n",
    "csv.show(10)"
   ]
  },
  {
   "cell_type": "code",
   "execution_count": null,
   "id": "a32d8d95",
   "metadata": {},
   "outputs": [],
   "source": []
  }
 ],
 "metadata": {
  "kernelspec": {
   "display_name": "Python 3",
   "language": "python",
   "name": "python3"
  },
  "language_info": {
   "codemirror_mode": {
    "name": "ipython",
    "version": 3
   },
   "file_extension": ".py",
   "mimetype": "text/x-python",
   "name": "python",
   "nbconvert_exporter": "python",
   "pygments_lexer": "ipython3",
   "version": "3.8.8"
  }
 },
 "nbformat": 4,
 "nbformat_minor": 5
}
